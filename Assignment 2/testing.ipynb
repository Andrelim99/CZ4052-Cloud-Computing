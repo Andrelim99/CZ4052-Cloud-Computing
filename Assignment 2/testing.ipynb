{
 "cells": [
  {
   "cell_type": "code",
   "execution_count": 12,
   "metadata": {},
   "outputs": [],
   "source": [
    "import vertexai\n",
    "from vertexai.language_models import TextGenerationModel\n",
    "from dotenv import load_dotenv\n",
    "import os\n",
    "\n",
    "load_dotenv()\n",
    "\n",
    "PROJECT = os.getenv(\"PROJECT\")\n",
    "LOCATION = \"asia-southeast1\"\n",
    "\n",
    "vertexai.init(project=PROJECT, location=LOCATION)\n",
    "# parameters = {\n",
    "#     \"candidate_count\": 1,\n",
    "#     \"max_output_tokens\": 1024,\n",
    "#     \"temperature\": 0.9,\n",
    "#     \"top_p\": 1\n",
    "# }\n",
    "model = TextGenerationModel.from_pretrained(\"text-bison\")"
   ]
  },
  {
   "cell_type": "code",
   "execution_count": 13,
   "metadata": {},
   "outputs": [
    {
     "name": "stdout",
     "output_type": "stream",
     "text": [
      "LangChain version: 0.1.12\n",
      "Vertex AI SDK version: 1.44.0\n"
     ]
    }
   ],
   "source": [
    "# Utils\n",
    "import time\n",
    "from typing import List\n",
    "\n",
    "# Langchain\n",
    "import langchain\n",
    "\n",
    "print(f\"LangChain version: {langchain.__version__}\")\n",
    "\n",
    "# Vertex AI\n",
    "# from langchain.llms import VertexAI\n",
    "\n",
    "from google.cloud import aiplatform\n",
    "from langchain_google_vertexai import ChatVertexAI\n",
    "from langchain_google_vertexai import VertexAIEmbeddings\n",
    "from langchain_google_vertexai import VertexAI\n",
    "from langchain.schema import HumanMessage, SystemMessage\n",
    "\n",
    "print(f\"Vertex AI SDK version: {aiplatform.__version__}\")"
   ]
  },
  {
   "cell_type": "markdown",
   "metadata": {},
   "source": [
    "# LLM\n",
    "- temperature: Randomness/creativity in output\n",
    "- token_limit: max amt of text output from one prompt\n",
    "- top-k: token selected from top k options (based on probability)\n",
    "- top-p: affects tokens selected for output as well -> select possible tokens to output till their probabilities sums to top-p. Choose among those tokens (based on temp)"
   ]
  },
  {
   "cell_type": "code",
   "execution_count": 14,
   "metadata": {},
   "outputs": [],
   "source": [
    "# Utility functions for Embeddings API with rate limiting\n",
    "def rate_limit(max_per_minute):\n",
    "    period = 60 / max_per_minute\n",
    "    print(\"Waiting\")\n",
    "    while True:\n",
    "        before = time.time()\n",
    "        yield\n",
    "        after = time.time()\n",
    "        elapsed = after - before\n",
    "        sleep_time = max(0, period - elapsed)\n",
    "        if sleep_time > 0:\n",
    "            print(\".\", end=\"\")\n",
    "            time.sleep(sleep_time)\n",
    "\n",
    "\n",
    "class CustomVertexAIEmbeddings(VertexAIEmbeddings):\n",
    "    requests_per_minute: int\n",
    "    num_instances_per_batch: int\n",
    "\n",
    "    # Overriding embed_documents method\n",
    "    def embed_documents(self, texts: List[str]):\n",
    "        limiter = rate_limit(self.requests_per_minute)\n",
    "        results = []\n",
    "        docs = list(texts)\n",
    "\n",
    "        while docs:\n",
    "            # Working in batches because the API accepts maximum 5\n",
    "            # documents per request to get embeddings\n",
    "            head, docs = (\n",
    "                docs[: self.num_instances_per_batch],\n",
    "                docs[self.num_instances_per_batch :],\n",
    "            )\n",
    "            chunk = self.client.get_embeddings(head)\n",
    "            results.extend(chunk)\n",
    "            next(limiter)\n",
    "\n",
    "        return [r.values for r in results]"
   ]
  },
  {
   "cell_type": "code",
   "execution_count": 52,
   "metadata": {},
   "outputs": [
    {
     "name": "stderr",
     "output_type": "stream",
     "text": [
      "Model_name will become a required arg for VertexAIEmbeddings starting from Feb-01-2024. Currently the default is set to textembedding-gecko@001\n"
     ]
    }
   ],
   "source": [
    "# LLM model\n",
    "ans_parameters = {\n",
    "    # \"candidate_count\": 1,\n",
    "    \"model_name\":\"text-bison\",\n",
    "    \"max_output_tokens\": 2048,\n",
    "    \"temperature\": 0.1,\n",
    "    \"top_p\": 0.8,\n",
    "    \"top_k\": 40,\n",
    "    \"verbose\": True,\n",
    "}\n",
    "\n",
    "ques_parameters = {\n",
    "    # \"candidate_count\": 1,\n",
    "    \"model_name\":\"text-bison\",\n",
    "    \"max_output_tokens\": 2048,\n",
    "    \"temperature\": 0.3,\n",
    "    \"top_p\": 0.8,\n",
    "    \"top_k\": 40,\n",
    "    \"verbose\": True,\n",
    "}\n",
    "\n",
    "# Minimise randomness\n",
    "answer_llm = VertexAI( **ans_parameters)\n",
    "#     model_name=\"text-bison\",\n",
    "#     max_output_tokens=512,\n",
    "#     temperature=0.1,\n",
    "#     top_p=0.8,\n",
    "#     top_k=40,\n",
    "#     verbose=True,\n",
    "# )\n",
    "\n",
    "# Ok to be random\n",
    "question_llm = VertexAI(**ques_parameters)\n",
    "\n",
    "# Chat\n",
    "chat = ChatVertexAI()\n",
    "\n",
    "# Embedding\n",
    "EMBEDDING_QPM = 15\n",
    "EMBEDDING_NUM_BATCH = 2\n",
    "embeddings = CustomVertexAIEmbeddings(\n",
    "    requests_per_minute=EMBEDDING_QPM,\n",
    "    num_instances_per_batch=EMBEDDING_NUM_BATCH,\n",
    ")"
   ]
  },
  {
   "cell_type": "markdown",
   "metadata": {},
   "source": [
    "# Reading from PDFs"
   ]
  },
  {
   "cell_type": "code",
   "execution_count": 71,
   "metadata": {},
   "outputs": [],
   "source": [
    "# Ingest PDF files\n",
    "from langchain.document_loaders import PyPDFLoader\n",
    "from langchain.docstore.document import Document\n",
    "from langchain.text_splitter import RecursiveCharacterTextSplitter, TokenTextSplitter\n",
    "\n",
    "# file_path = \"Lec2 DataCenterNetworking.pdf\"\n",
    "file_path = \"Lec1.pdf\"\n",
    "loader = PyPDFLoader(file_path)\n",
    "documents = loader.load()"
   ]
  },
  {
   "cell_type": "code",
   "execution_count": 72,
   "metadata": {},
   "outputs": [
    {
     "data": {
      "text/plain": [
       "54"
      ]
     },
     "execution_count": 72,
     "metadata": {},
     "output_type": "execute_result"
    }
   ],
   "source": [
    "len(documents)"
   ]
  },
  {
   "cell_type": "code",
   "execution_count": 73,
   "metadata": {},
   "outputs": [
    {
     "data": {
      "text/plain": [
       "Document(page_content='CE/CZ4052Cloud ComputingBasics, IaaS, PaaS, SaaSDr. Tan, Chee WeiEmail: cheewei.tan@ntu.edu.sgOffice: N4-02c-104', metadata={'source': 'Lec1.pdf', 'page': 0})"
      ]
     },
     "execution_count": 73,
     "metadata": {},
     "output_type": "execute_result"
    }
   ],
   "source": [
    "documents[0]"
   ]
  },
  {
   "cell_type": "code",
   "execution_count": 74,
   "metadata": {},
   "outputs": [
    {
     "name": "stdout",
     "output_type": "stream",
     "text": [
      "# of documents = 54\n"
     ]
    }
   ],
   "source": [
    "# split the documents into chunks\n",
    "text_splitter = RecursiveCharacterTextSplitter(chunk_size=1500, chunk_overlap=0)\n",
    "docs = text_splitter.split_documents(documents)\n",
    "print(f\"# of documents = {len(docs)}\")"
   ]
  },
  {
   "cell_type": "code",
   "execution_count": 75,
   "metadata": {},
   "outputs": [
    {
     "data": {
      "text/plain": [
       "[Document(page_content='CE/CZ4052Cloud ComputingBasics, IaaS, PaaS, SaaSDr. Tan, Chee WeiEmail: cheewei.tan@ntu.edu.sgOffice: N4-02c-104', metadata={'source': 'Lec1.pdf', 'page': 0}),\n",
       " Document(page_content='Outline\\n1Real-world examples of the cloud Definitions of cloud computingKey cloud concepts and characteristics Deployment scenarios', metadata={'source': 'Lec1.pdf', 'page': 1}),\n",
       " Document(page_content='Cloud:MassiveScale\\n2Facebook[GigaOM,2012]30Kin2009->60Kin2010->100Kin2012Microsoft[DCknowledge]>1million,2013AWSEC2[RandyBias,2009]40K,8corespermachineGoogle[DCknowledge]>900K,2013', metadata={'source': 'Lec1.pdf', 'page': 2}),\n",
       " Document(page_content='Datacenter:outside\\nCopyright:Google4', metadata={'source': 'Lec1.pdf', 'page': 3}),\n",
       " Document(page_content='Datacenter:outside\\nCopyright:Googles', metadata={'source': 'Lec1.pdf', 'page': 4}),\n",
       " Document(page_content='Datacenter:inside\\nCopyright:Google6', metadata={'source': 'Lec1.pdf', 'page': 5}),\n",
       " Document(page_content='Serverracks\\n7Photocredit:Google', metadata={'source': 'Lec1.pdf', 'page': 6}),\n",
       " Document(page_content='Server:inside\\nCopyright:xsnets', metadata={'source': 'Lec1.pdf', 'page': 7}),\n",
       " Document(page_content='Servercage\\n9', metadata={'source': 'Lec1.pdf', 'page': 8}),\n",
       " Document(page_content='Network room\\nCopyright:Google10', metadata={'source': 'Lec1.pdf', 'page': 9}),\n",
       " Document(page_content='Coolingfunctionality', metadata={'source': 'Lec1.pdf', 'page': 10}),\n",
       " Document(page_content='Powerfunctionality\\n11Copyright:GigaOM\\nCopyright: NationofChangehttps://www.youtube.com/watch?v=XZmGGAbHqa0Explore Google Datacenter', metadata={'source': 'Lec1.pdf', 'page': 11}),\n",
       " Document(page_content='Cloudproviders\\n12amazonwebservices™', metadata={'source': 'Lec1.pdf', 'page': 12}),\n",
       " Document(page_content='Cloud-basedservices\\n13', metadata={'source': 'Lec1.pdf', 'page': 13}),\n",
       " Document(page_content='Cloudvendors\\n14', metadata={'source': 'Lec1.pdf', 'page': 14}),\n",
       " Document(page_content='Sowhatisacloud?\\n15serv•ices--Cloud corecloud edgeData centers and Internet', metadata={'source': 'Lec1.pdf', 'page': 15}),\n",
       " Document(page_content='Adefinition\\n16Cloud computing is a model for enabling ubiquitous, convenient, on-demand network access to a shared pool of configurable computing resources (e.g., networks, servers, storage, applications, and services) that can be rapidly provisioned and released with minimal management effortor service provider interactionFour types of cloud computing: private clouds, public clouds, hybrid clouds and multicloudsNationalInstituteofStandardsandTechnology(NIST),U.S.DepartmentofCommerce', metadata={'source': 'Lec1.pdf', 'page': 16}),\n",
       " Document(page_content='On-demandself-service\\n20Supposeyouopenastart-up,andneeds20serversforthebusiness, cloud computing enables on-demand service', metadata={'source': 'Lec1.pdf', 'page': 17}),\n",
       " Document(page_content='On-demandself-service\\n18', metadata={'source': 'Lec1.pdf', 'page': 18}),\n",
       " Document(page_content='19A consumer can unilaterally provision computing capabilities, such as servers and network storage, as needed automatically without requiring human interaction with each service provider.Cloud computing makes the underlying technology, beyond the user device, almost invisible and transparent to usersAdvantages for consumers: flexible, minimal overhead, quick and easyOn-demandself-service', metadata={'source': 'Lec1.pdf', 'page': 19}),\n",
       " Document(page_content='Broadnetworkaccess\\n20', metadata={'source': 'Lec1.pdf', 'page': 20}),\n",
       " Document(page_content='Broadnetworkaccess\\n21Capabilities are available over the network and accessed through standard mechanisms that promote use by heterogeneous thin or thick client platforms (e.g., smart phones, tablets, laptops, and workstations).Advantages for consumers: \"Always-on\" experience, like utilities (electricity)Allows big amount of data to be collected from cloud edgeCloud computing enables scalable machine learning techniques to power Artificial Intelligence (AI) applications', metadata={'source': 'Lec1.pdf', 'page': 21}),\n",
       " Document(page_content=\"Resourcepooling\\n22Fromtheprovider'sperspective\", metadata={'source': 'Lec1.pdf', 'page': 22}),\n",
       " Document(page_content=\"23The provider's resources are pooled to serve consumers using a multi-tenant model, with different physical and virtual resources dynamically allocated according to consumer demand.Location independence: the customer generally has no control or knowledge over the exact location of the provided resources but may be able to specify location at a higher level of abstraction (e.g., country, state, or datacenter).Advantage for providers: efficiency in utilizationResourcepooling\", metadata={'source': 'Lec1.pdf', 'page': 23}),\n",
       " Document(page_content='24Resources can be rapidly and elastically scaled up and down. Suppose your business grows and needs 40 servers now. Elastic provisioning outperforms static provisioning\\nCloud rapid elasticity', metadata={'source': 'Lec1.pdf', 'page': 24}),\n",
       " Document(page_content='25Withcloudcomputing\\nAdvantageforconsumers:flexible,quickandeasy\\nCloud rapid elasticity', metadata={'source': 'Lec1.pdf', 'page': 25}),\n",
       " Document(page_content='Cloud economics\\n26A cloud automatically controls and optimizes resource use by leveraging a metering capability at some level of abstraction appropriate to the type of serviceResource usage can be monitored, controlled, and reported, providing transparency for both the provider and consumerCloud economics to match supply and demand. How to optimize cloud resources to match computing and storage demands?Cloud economics: Who determines price and pricing strategiesPay-as-you-go, pay only for what you use', metadata={'source': 'Lec1.pdf', 'page': 26}),\n",
       " Document(page_content='Socialcloud computingGeneralize cloud computing to include the sharing, bartering and renting of computing resources across peers whose owners and operators are verified through a social network or reputation systemBasis of emerging Web 3.0 applications past the confines of formal commercial data centers operated by cloud providers to include anyone interested in participating within the cloud services sharing economyBerkeley Open Infrastructure for Network Computing  Subutai P2P Edge Cloud Platform (https://subutai.io)Decentralized applications (dApps)https://en.wikipedia.org/wiki/Social_cloud_computing', metadata={'source': 'Lec1.pdf', 'page': 27}),\n",
       " Document(page_content='Cloud Summary\\n28Cloud computing is an umbrella term used to refer to Internet based development and servicesA number of characteristics define cloud data, applications services and infrastructure:Remotely hosted: Services or data are hosted on remote infrastructure. Ubiquitous: Services or data are available from anywhere.Commodified: The result is a utility computing model similar to traditional that of traditional utilities, like gas and electricity -you pay for what you would want!', metadata={'source': 'Lec1.pdf', 'page': 28}),\n",
       " Document(page_content='29Infrastructure-as-a-Service (laaS) Platform-as-a-Service (PaaS) Software-as-a-Service (SaaS)Opportunities and ChallengesAdvantages and Disadvantages of cloud computingOutline', metadata={'source': 'Lec1.pdf', 'page': 29}),\n",
       " Document(page_content='laaS\\n30Infrastructure-as-a-Service (IaaS)Providers give you the computing infrastructure made available as a service. You get \"bare-metal\" machines.Providers manage a large pool of resources (i.e., servers), and use virtualization to dynamically allocate serversCustomers \"rent\" these physical resources to customizetheir own infrastructureYou operate the Operating System (OS) and all the software on the servers by yourself', metadata={'source': 'Lec1.pdf', 'page': 30}),\n",
       " Document(page_content='laaS\\n31ftInfrastructure-as-a-Service (IaaS)Virtualization and Virtual Machines', metadata={'source': 'Lec1.pdf', 'page': 31}),\n",
       " Document(page_content='laaSApplications\\n32Netflix rents thousands of servers, terabytes of storage from Amazon Web Services (AWS)Develop and deploy specialized software for transcoding, storage, streaming, analytics, etc. on top of service deliveryAble to support tens of millions of connected devices used by 40+ million users from 40+ countries', metadata={'source': 'Lec1.pdf', 'page': 32}),\n",
       " Document(page_content='Virtualization¨Virtual workspaces: ¤An abstraction of an execution environment that can be made dynamically available to authorized clients by using well-defined protocols, ¤Resource quota (e.g. CPU, memory share),¤Software configuration (e.g. O/S, provided services). ¨Implement on Virtual Machines (VMs): ¤Abstraction of a physical host machine,¤Hypervisor intercepts and emulates instructions from VMs, and allows management of VMs,¤VMWare, Xen, etc.¨Provide infrastructure API:¤Plug-ins to hardware/support structuresHardwareOSAppAppAppHypervisorOSOSVirtualized Stack', metadata={'source': 'Lec1.pdf', 'page': 33}),\n",
       " Document(page_content='Virtual MachinesVM technology allows multiple virtual machines to run on a single physical machine.\\nHardwareVirtual Machine Monitor (VMM) / HypervisorGuest OS(Linux)Guest OS(NetBSD)Guest OS(Windows)VMVMVMAppAppAppAppAppXenVMWareUMLDenalietc.Performance: Para-virtualization (e.g. Xen) is very close to raw physical performance!', metadata={'source': 'Lec1.pdf', 'page': 34}),\n",
       " Document(page_content='PaaS\\n35Platform-as-a-Service (PaaS)Providers give users with a software platform or middleware where applications runYou develop and maintain and deploy your own software on top of the platformThe hardware needed to run the software is automatically managed by the platform. There are limitations on explicit management of resources.Examples: SQL as a service (SQLaaS), Matlab, Gurobi', metadata={'source': 'Lec1.pdf', 'page': 35}),\n",
       " Document(page_content='PaaS\\n36You have automated scalability without the need to respond to request load increase or decreaseIdeal for deployment of mobile apps, webapps etc.Application programming interface (API) support via popular languages likePython,Javascript, Java,PHP,andGo', metadata={'source': 'Lec1.pdf', 'page': 36}),\n",
       " Document(page_content='SaaS\\n37Software-as-a-Service (SaaS)Providers give you a piece of software/application, and take care of updating, maintaining and troubleshooting the application.As end user, you simply use the software using the Internet.Business model of SaaS: business-to-business (B2B), business-to-clients (B2C) that cover numerous retail end users', metadata={'source': 'Lec1.pdf', 'page': 37}),\n",
       " Document(page_content='Applications of SaaS\\n38Nowadays, many institutions use Google Apps, Apple cloud and Office 365 for emails, video meeting, calendar, etc.Business use SaaS for payment and transactions. Legal industry relies on SaaS for compliance, creative industry relies on SaaS for artwork (e.g., computer-generated images). Engineers rely on SaaS to design circuits/software. Students rely  on SaaS to learn and collaborate.What are scientific applications of SaaS?', metadata={'source': 'Lec1.pdf', 'page': 38}),\n",
       " Document(page_content='SaaS Maturity Model\\n39Level 2: Configurable per customer\\nSource: Frederick Chong and Gianpaolo Carraro, “Architectures Strategies for Catching the  Long Tail”\\nLevel 3: configurable & Multi-Tenant-EfficientLevel 1: Ad-Hoc/Custom –One Instance per customer\\nLevel 4: Scalable, Configurable & Multi-Tenant-Efficient', metadata={'source': 'Lec1.pdf', 'page': 39}),\n",
       " Document(page_content='Comparisonof IaaS, PaaS, SaaS\\n40Convenience/Easeofmanagement/Business Models Tradeoff betweenflexibilityand\"built-in\"functionality', metadata={'source': 'Lec1.pdf', 'page': 40}),\n",
       " Document(page_content='Opportunities and ChallengesThe use of the cloud provides a number of opportunities: IaaS enables services to be used without any understanding of their infrastructure.Cloud computing works using economies of scale:nIaaS and PaaS potentially lower the outlay expense for start up companies, as they would no longer need to buy their own software or servers. nCost would be by on-demand pricing in IaaS, PaaS and SaaS. nCloud providers claim costs by establishing an ongoing revenue stream.Data and services are stored remotely but accessible from “anywhere” in SaaS.', metadata={'source': 'Lec1.pdf', 'page': 41}),\n",
       " Document(page_content='Opportunities and ChallengesIn parallel there has been backlash against cloud computing:Use of cloud computing means dependence on others and that could possibly limit flexibility and innovation:nThe others are likely become the bigger Internet companies like Google and IBM, who may monopolise the market. nSome argue that this use of supercomputers is a return to the time of mainframe computing that the PC was a reaction against.Security could prove to be a big issue:nIt is still unclear how safe out-sourced data to SaaS is and when using these services ownership of data in SaaS is not always clear.There are also issues relating to policy and access: nIf your data is stored abroad whose policy do you adhere to? nWhat happens if the remote server goes down? nHow will you then access files? nThere have been cases of users being locked out of accounts and losing access to data.', metadata={'source': 'Lec1.pdf', 'page': 42}),\n",
       " Document(page_content=\"Advantages of Cloud ComputingIaaS leads to lower computer costs: You do not need a high-powered and high-priced computer to run cloud computing's web-based applications. Since applications run in the cloud, not on the desktop PC, your desktop PC does not need the processing power or hard disk space demanded by traditional desktop software. When you are using web-based applications, your PC can be less expensive, with a smaller hard disk, less memory, more efficient processor... In fact, your PC in this scenario does not even need a CD or DVD drive, as no software programs have to be loaded and no document files need to be saved.\", metadata={'source': 'Lec1.pdf', 'page': 43}),\n",
       " Document(page_content=\"Advantages of Cloud ComputingIaaS leads to unlimited storage capacity:Cloud computing offers virtually limitless storage. Your computer's current 1 Tbytehard drive is small compared to the hundreds of Pbytesavailable in the cloud.IaaS leads to increased data reliability:Unlike desktop computing, in which if a hard disk crashes and destroy all your valuable data, a computer crashing in the cloud should not affect the storage of your data.if your personal computer crashes, all your data is still out there in the cloud, still accessibleIn a world where few individual desktop PC users back up their data on a regular basis, cloud computing is a data-safe computing platform!\", metadata={'source': 'Lec1.pdf', 'page': 44}),\n",
       " Document(page_content=\"Advantages of Cloud ComputingPaaS leads to improved performance:With few large programs hogging your computer's memory, you will see better performance from your PC. Computers in a cloud computing system boot and run faster because they have fewer programs and processes loaded into memory…SaaS leads to reduced software costs: Instead of purchasing expensive software applications, you can get most of what you need for free-ish!-most cloud computing applications today, such as the Google Docs suite.Better than paying for similar commercial software-which alone may be justification for switching to cloud applications.\", metadata={'source': 'Lec1.pdf', 'page': 45}),\n",
       " Document(page_content=\"Advantages of Cloud ComputingPaaS and SaaS take care of instant software updates:Another advantage to cloud computing is that you are no longer faced with choosing between obsolete software and high upgrade costs.With web-based applications (i.e., SaaS), updates happen automatically -available the next time you log into the cloud. When you access a web-based application, you get the latest version -without needing to pay for or download an upgrade.SaaS leads to improved document format compatibility. You do not have to worry about the documents you create on your machine being compatible with other users' applications or OSesThere are potentially no format incompatibilities when everyone is sharing documents and applications in the cloud.\", metadata={'source': 'Lec1.pdf', 'page': 46}),\n",
       " Document(page_content='Advantages of Cloud ComputingSaaS leads to universal document access:That is not a problem with cloud computing, because you do not take your documents with you. Instead, they stay in the cloud, and you can access them whenever you have a computer and an Internet connectionDocuments are instantly available from wherever you areSaaS leads to latest version availability:When you edit a document at home, that edited version is what you see when you access the document at work. The cloud always hosts the latest version of your documents-as long as you are connected, you are not in danger of having an outdated version', metadata={'source': 'Lec1.pdf', 'page': 47}),\n",
       " Document(page_content='Advantages of Cloud ComputingSaaS leads to easier group collaboration:Sharing documents leads directly to better collaboration.Many users do this as it is an important advantages of cloud computingnmultiple users can collaborate easily on documents and projectsDevice independence. You are no longer tethered to a single computer or network. Changes to computers, applications and documents follow you through the cloud. Move to a portable device, and your applications and documents are still available.', metadata={'source': 'Lec1.pdf', 'page': 48}),\n",
       " Document(page_content='Disadvantages of Cloud ComputingRequires a constant Internet connection:Cloud computing is impossible if you cannot connect to the Internet. Since you use the Internet to connect to both your applications and documents, if you do not have an Internet connection you cannot access anything, even your own documents. A dead Internet connection means no work and in areas where Internet connections are few or inherently unreliable, this could be a deal-breaker.', metadata={'source': 'Lec1.pdf', 'page': 49}),\n",
       " Document(page_content=\"Disadvantages of Cloud ComputingDoes not work well with low-speed connections: Similarly, a low-speed Internet connection, such as that found with dial-up services, makes cloud computing painful at best and often impossible. Web-based applications require a lot of bandwidth to download, as do large documents. Features might be limited:This situation is bound to change, but today many web-based applications simply are not as full-featured as their desktop-based applications.nFor example, you can do a lot more with Microsoft PowerPoint than with Google Presentation's web-based offering\", metadata={'source': 'Lec1.pdf', 'page': 50}),\n",
       " Document(page_content='Disadvantages of Cloud ComputingCan be slow:Even with a fast connection, web-based applications can sometimes be slower than accessing a similar software program on your desktop PC. Everything about the program, from the interface to the current document, has to be sent back and forth from your computer to the computers in the cloud. If the cloud servers happen to be backed up at that moment, or if the Internet is having a slow day, you would not get the instantaneous access you might expect from desktop applications.', metadata={'source': 'Lec1.pdf', 'page': 51}),\n",
       " Document(page_content='Disadvantages of Cloud ComputingStored data might not be secure:With cloud computing, all your data is stored on the cloud. nThe questions is How secure is the cloud? Can unauthorisedusers gain access to your confidential data? Stored data can be lost:Theoretically, data stored in the cloud is safe, replicated across multiple machines. But on the off chance that your data goes missing, you have no physical or local backup. Put simply, relying on the cloud puts you at risk if the cloud lets you down.', metadata={'source': 'Lec1.pdf', 'page': 52}),\n",
       " Document(page_content='Disadvantages of Cloud ComputingHPC Systems:Not clear that you can run compute-intensive HPC applications that use MPI/OpenMP!Scheduling is important with this type of applicationnas you want all the VM to be co-located to minimize communication latency!General Concerns:Each cloud systems uses different protocols and different APIs-may not be possible to run applications between cloud based systemsAmazon has created its own DB system (not SQL), and workflow system (many popular workflow systems out there)-so your normal applications will have to be adapted to execute on these platforms.', metadata={'source': 'Lec1.pdf', 'page': 53})]"
      ]
     },
     "execution_count": 75,
     "metadata": {},
     "output_type": "execute_result"
    }
   ],
   "source": [
    "docs"
   ]
  },
  {
   "cell_type": "code",
   "execution_count": 76,
   "metadata": {},
   "outputs": [],
   "source": [
    "question_gen = ''\n",
    "\n",
    "for page in documents:\n",
    "    question_gen += page.page_content\n",
    "\n",
    "splitter_ques_gen = TokenTextSplitter(\n",
    "model_name = 'gpt-3.5-turbo',\n",
    "chunk_size = 1000,\n",
    "chunk_overlap = 50\n",
    ")\n",
    "\n",
    "chunks_ques_gen = splitter_ques_gen.split_text(question_gen)\n",
    "\n",
    "document_ques_gen = [Document(page_content=t) for t in chunks_ques_gen]"
   ]
  },
  {
   "cell_type": "code",
   "execution_count": 77,
   "metadata": {},
   "outputs": [
    {
     "data": {
      "text/plain": [
       "4"
      ]
     },
     "execution_count": 77,
     "metadata": {},
     "output_type": "execute_result"
    }
   ],
   "source": [
    "len(document_ques_gen)"
   ]
  },
  {
   "cell_type": "code",
   "execution_count": 78,
   "metadata": {},
   "outputs": [
    {
     "data": {
      "text/plain": [
       "[Document(page_content='CE/CZ4052Cloud ComputingBasics, IaaS, PaaS, SaaSDr. Tan, Chee WeiEmail: cheewei.tan@ntu.edu.sgOffice: N4-02c-104Outline\\n1Real-world examples of the cloud Definitions of cloud computingKey cloud concepts and characteristics Deployment scenariosCloud:MassiveScale\\n2Facebook[GigaOM,2012]30Kin2009->60Kin2010->100Kin2012Microsoft[DCknowledge]>1million,2013AWSEC2[RandyBias,2009]40K,8corespermachineGoogle[DCknowledge]>900K,2013Datacenter:outside\\nCopyright:Google4Datacenter:outside\\nCopyright:GooglesDatacenter:inside\\nCopyright:Google6Serverracks\\n7Photocredit:GoogleServer:inside\\nCopyright:xsnetsServercage\\n9Network room\\nCopyright:Google10CoolingfunctionalityPowerfunctionality\\n11Copyright:GigaOM\\nCopyright: NationofChangehttps://www.youtube.com/watch?v=XZmGGAbHqa0Explore Google DatacenterCloudproviders\\n12amazonwebservices™\\nCloud-basedservices\\n13\\nCloudvendors\\n14\\nSowhatisacloud?\\n15serv•ices--Cloud corecloud edgeData centers and InternetAdefinition\\n16Cloud computing is a model for enabling ubiquitous, convenient, on-demand network access to a shared pool of configurable computing resources (e.g., networks, servers, storage, applications, and services) that can be rapidly provisioned and released with minimal management effortor service provider interactionFour types of cloud computing: private clouds, public clouds, hybrid clouds and multicloudsNationalInstituteofStandardsandTechnology(NIST),U.S.DepartmentofCommerceOn-demandself-service\\n20Supposeyouopenastart-up,andneeds20serversforthebusiness, cloud computing enables on-demand service\\nOn-demandself-service\\n18\\n19A consumer can unilaterally provision computing capabilities, such as servers and network storage, as needed automatically without requiring human interaction with each service provider.Cloud computing makes the underlying technology, beyond the user device, almost invisible and transparent to usersAdvantages for consumers: flexible, minimal overhead, quick and easyOn-demandself-serviceBroadnetworkaccess\\n20\\nBroadnetworkaccess\\n21Capabilities are available over the network and accessed through standard mechanisms that promote use by heterogeneous thin or thick client platforms (e.g., smart phones, tablets, laptops, and workstations).Advantages for consumers: \"Always-on\" experience, like utilities (electricity)Allows big amount of data to be collected from cloud edgeCloud computing enables scalable machine learning techniques to power Artificial Intelligence (AI) applicationsResourcepooling\\n22Fromtheprovider\\'sperspective23The provider\\'s resources are pooled to serve consumers using a multi-tenant model, with different physical and virtual resources dynamically allocated according to consumer demand.Location independence: the customer generally has no control or knowledge over the exact location of the provided resources but may be able to specify location at a higher level of abstraction (e.g., country, state, or datacenter).Advantage for providers: efficiency in utilizationResourcepooling24Resources can be rapidly and elastically scaled up and down. Suppose your business grows and needs 40 servers now. Elastic provisioning outperforms static provisioning\\nCloud rapid elasticity25Withcloudcomputing\\nAdvantageforconsumers:flexible,quickandeasy\\nCloud rapid elasticityCloud economics\\n26A cloud automatically controls and optimizes resource use by leveraging a metering capability at some level of abstraction appropriate to the type of serviceResource usage can be monitored, controlled, and reported, providing transparency for both the provider and consumerCloud economics to match supply and demand. How to optimize cloud resources to match computing and storage demands?Cloud economics: Who determines price and pricing strategiesPay-as-you-go, pay only for what you useSocialcloud computingGeneralize cloud computing to include the sharing, bartering and renting of computing resources across peers whose owners and operators are verified through a social network or reputation systemBasis of emerging Web 3.0 applications past the confines of formal commercial data centers operated by cloud providers to include anyone interested in participating within the cloud services sharing economyBerkeley Open Infrastructure for Network Computing  Subutai P2P Edge Cloud Platform (https://subutai.io)Decentralized applications (dApps)https://en.wikipedia.org/wiki/Social_cloud_computingCloud Summary\\n28Cloud computing is an umbrella term used to refer to Internet based development and servicesA number of characteristics define cloud data, applications services and infrastructure:Remotely hosted: Services or data are hosted on remote infrastructure. Ubiquitous: Services or data are available from anywhere.Commodified: The result is a utility computing model similar to traditional that of traditional utilities, like gas and electricity -you pay for what you would want!29Infrastructure-as-a-Service'),\n",
       " Document(page_content=' infrastructure. Ubiquitous: Services or data are available from anywhere.Commodified: The result is a utility computing model similar to traditional that of traditional utilities, like gas and electricity -you pay for what you would want!29Infrastructure-as-a-Service (laaS) Platform-as-a-Service (PaaS) Software-as-a-Service (SaaS)Opportunities and ChallengesAdvantages and Disadvantages of cloud computingOutlinelaaS\\n30Infrastructure-as-a-Service (IaaS)Providers give you the computing infrastructure made available as a service. You get \"bare-metal\" machines.Providers manage a large pool of resources (i.e., servers), and use virtualization to dynamically allocate serversCustomers \"rent\" these physical resources to customizetheir own infrastructureYou operate the Operating System (OS) and all the software on the servers by yourselflaaS\\n31ftInfrastructure-as-a-Service (IaaS)Virtualization and Virtual Machines\\nlaaSApplications\\n32Netflix rents thousands of servers, terabytes of storage from Amazon Web Services (AWS)Develop and deploy specialized software for transcoding, storage, streaming, analytics, etc. on top of service deliveryAble to support tens of millions of connected devices used by 40+ million users from 40+ countriesVirtualization¨Virtual workspaces: ¤An abstraction of an execution environment that can be made dynamically available to authorized clients by using well-defined protocols, ¤Resource quota (e.g. CPU, memory share),¤Software configuration (e.g. O/S, provided services). ¨Implement on Virtual Machines (VMs): ¤Abstraction of a physical host machine,¤Hypervisor intercepts and emulates instructions from VMs, and allows management of VMs,¤VMWare, Xen, etc.¨Provide infrastructure API:¤Plug-ins to hardware/support structuresHardwareOSAppAppAppHypervisorOSOSVirtualized StackVirtual MachinesVM technology allows multiple virtual machines to run on a single physical machine.\\nHardwareVirtual Machine Monitor (VMM) / HypervisorGuest OS(Linux)Guest OS(NetBSD)Guest OS(Windows)VMVMVMAppAppAppAppAppXenVMWareUMLDenalietc.Performance: Para-virtualization (e.g. Xen) is very close to raw physical performance!PaaS\\n35Platform-as-a-Service (PaaS)Providers give users with a software platform or middleware where applications runYou develop and maintain and deploy your own software on top of the platformThe hardware needed to run the software is automatically managed by the platform. There are limitations on explicit management of resources.Examples: SQL as a service (SQLaaS), Matlab, GurobiPaaS\\n36You have automated scalability without the need to respond to request load increase or decreaseIdeal for deployment of mobile apps, webapps etc.Application programming interface (API) support via popular languages likePython,Javascript, Java,PHP,andGo\\nSaaS\\n37Software-as-a-Service (SaaS)Providers give you a piece of software/application, and take care of updating, maintaining and troubleshooting the application.As end user, you simply use the software using the Internet.Business model of SaaS: business-to-business (B2B), business-to-clients (B2C) that cover numerous retail end usersApplications of SaaS\\n38Nowadays, many institutions use Google Apps, Apple cloud and Office 365 for emails, video meeting, calendar, etc.Business use SaaS for payment and transactions. Legal industry relies on SaaS for compliance, creative industry relies on SaaS for artwork (e.g., computer-generated images). Engineers rely on SaaS to design circuits/software. Students rely  on SaaS to learn and collaborate.What are scientific applications of SaaS?\\nSaaS Maturity Model\\n39Level 2: Configurable per customer\\nSource: Frederick Chong and Gianpaolo Carraro, “Architectures Strategies for Catching the  Long Tail”\\nLevel 3: configurable & Multi-Tenant-EfficientLevel 1: Ad-Hoc/Custom –One Instance per customer\\nLevel 4: Scalable, Configurable & Multi-Tenant-EfficientComparisonof IaaS, PaaS, SaaS\\n40Convenience/Easeofmanagement/Business Models Tradeoff betweenflexibilityand\"built-in\"functionality\\nOpportunities and ChallengesThe use of the cloud provides a number of opportunities: IaaS enables services to be used without any understanding of their infrastructure.Cloud computing works using economies of scale:nIaaS and PaaS potentially lower the outlay expense for start up companies, as they would no longer need to buy their own software or servers. nCost would be by on-demand pricing in IaaS, PaaS and SaaS. nCloud providers claim costs by establishing an ongoing revenue stream.Data and services are stored remotely but accessible from “anywhere” in SaaS. Opportunities and'),\n",
       " Document(page_content=\" servers. nCost would be by on-demand pricing in IaaS, PaaS and SaaS. nCloud providers claim costs by establishing an ongoing revenue stream.Data and services are stored remotely but accessible from “anywhere” in SaaS. Opportunities and ChallengesIn parallel there has been backlash against cloud computing:Use of cloud computing means dependence on others and that could possibly limit flexibility and innovation:nThe others are likely become the bigger Internet companies like Google and IBM, who may monopolise the market. nSome argue that this use of supercomputers is a return to the time of mainframe computing that the PC was a reaction against.Security could prove to be a big issue:nIt is still unclear how safe out-sourced data to SaaS is and when using these services ownership of data in SaaS is not always clear.There are also issues relating to policy and access: nIf your data is stored abroad whose policy do you adhere to? nWhat happens if the remote server goes down? nHow will you then access files? nThere have been cases of users being locked out of accounts and losing access to data.Advantages of Cloud ComputingIaaS leads to lower computer costs: You do not need a high-powered and high-priced computer to run cloud computing's web-based applications. Since applications run in the cloud, not on the desktop PC, your desktop PC does not need the processing power or hard disk space demanded by traditional desktop software. When you are using web-based applications, your PC can be less expensive, with a smaller hard disk, less memory, more efficient processor... In fact, your PC in this scenario does not even need a CD or DVD drive, as no software programs have to be loaded and no document files need to be saved.Advantages of Cloud ComputingIaaS leads to unlimited storage capacity:Cloud computing offers virtually limitless storage. Your computer's current 1 Tbytehard drive is small compared to the hundreds of Pbytesavailable in the cloud.IaaS leads to increased data reliability:Unlike desktop computing, in which if a hard disk crashes and destroy all your valuable data, a computer crashing in the cloud should not affect the storage of your data.if your personal computer crashes, all your data is still out there in the cloud, still accessibleIn a world where few individual desktop PC users back up their data on a regular basis, cloud computing is a data-safe computing platform!Advantages of Cloud ComputingPaaS leads to improved performance:With few large programs hogging your computer's memory, you will see better performance from your PC. Computers in a cloud computing system boot and run faster because they have fewer programs and processes loaded into memory…SaaS leads to reduced software costs: Instead of purchasing expensive software applications, you can get most of what you need for free-ish!-most cloud computing applications today, such as the Google Docs suite.Better than paying for similar commercial software-which alone may be justification for switching to cloud applications.Advantages of Cloud ComputingPaaS and SaaS take care of instant software updates:Another advantage to cloud computing is that you are no longer faced with choosing between obsolete software and high upgrade costs.With web-based applications (i.e., SaaS), updates happen automatically -available the next time you log into the cloud. When you access a web-based application, you get the latest version -without needing to pay for or download an upgrade.SaaS leads to improved document format compatibility. You do not have to worry about the documents you create on your machine being compatible with other users' applications or OSesThere are potentially no format incompatibilities when everyone is sharing documents and applications in the cloud.Advantages of Cloud ComputingSaaS leads to universal document access:That is not a problem with cloud computing, because you do not take your documents with you. Instead, they stay in the cloud, and you can access them whenever you have a computer and an Internet connectionDocuments are instantly available from wherever you areSaaS leads to latest version availability:When you edit a document at home, that edited version is what you see when you access the document at work. The cloud always hosts the latest version of your documents-as long as you are connected, you are not in danger of having an outdated versionAdvantages of Cloud ComputingSaaS leads to easier group collaboration:Sharing documents leads directly to better collaboration.Many users do this as it is an important advantages of cloud computingnmultiple users can collaborate easily on documents and projectsDevice independence. You are no longer tethered to a single computer or network. Changes to computers, applications and documents follow you through the cloud. Move to a portable device, and your applications and documents are still available.Disadvantages of Cloud ComputingRequires a constant Internet connection:Cloud computing is impossible if you cannot connect to the Internet. Since you use the Internet to connect to both your applications and documents, if you do not have an Internet connection you cannot access anything, even your own documents. A dead Internet connection means no\"),\n",
       " Document(page_content=\"Cloud computing is impossible if you cannot connect to the Internet. Since you use the Internet to connect to both your applications and documents, if you do not have an Internet connection you cannot access anything, even your own documents. A dead Internet connection means no work and in areas where Internet connections are few or inherently unreliable, this could be a deal-breaker. Disadvantages of Cloud ComputingDoes not work well with low-speed connections: Similarly, a low-speed Internet connection, such as that found with dial-up services, makes cloud computing painful at best and often impossible. Web-based applications require a lot of bandwidth to download, as do large documents. Features might be limited:This situation is bound to change, but today many web-based applications simply are not as full-featured as their desktop-based applications.nFor example, you can do a lot more with Microsoft PowerPoint than with Google Presentation's web-based offeringDisadvantages of Cloud ComputingCan be slow:Even with a fast connection, web-based applications can sometimes be slower than accessing a similar software program on your desktop PC. Everything about the program, from the interface to the current document, has to be sent back and forth from your computer to the computers in the cloud. If the cloud servers happen to be backed up at that moment, or if the Internet is having a slow day, you would not get the instantaneous access you might expect from desktop applications.Disadvantages of Cloud ComputingStored data might not be secure:With cloud computing, all your data is stored on the cloud. nThe questions is How secure is the cloud? Can unauthorisedusers gain access to your confidential data? Stored data can be lost:Theoretically, data stored in the cloud is safe, replicated across multiple machines. But on the off chance that your data goes missing, you have no physical or local backup. Put simply, relying on the cloud puts you at risk if the cloud lets you down.Disadvantages of Cloud ComputingHPC Systems:Not clear that you can run compute-intensive HPC applications that use MPI/OpenMP!Scheduling is important with this type of applicationnas you want all the VM to be co-located to minimize communication latency!General Concerns:Each cloud systems uses different protocols and different APIs-may not be possible to run applications between cloud based systemsAmazon has created its own DB system (not SQL), and workflow system (many popular workflow systems out there)-so your normal applications will have to be adapted to execute on these platforms.\")]"
      ]
     },
     "execution_count": 78,
     "metadata": {},
     "output_type": "execute_result"
    }
   ],
   "source": [
    "document_ques_gen"
   ]
  },
  {
   "cell_type": "code",
   "execution_count": null,
   "metadata": {},
   "outputs": [],
   "source": []
  },
  {
   "cell_type": "markdown",
   "metadata": {},
   "source": [
    "# VectorStores\n",
    "- Index or DB to store vectors (our embeddings)\n",
    "- Columns are: [Embedding Value, Metadata]"
   ]
  },
  {
   "cell_type": "code",
   "execution_count": 79,
   "metadata": {},
   "outputs": [],
   "source": [
    "# from langchain_community.vectorstores import Chroma"
   ]
  },
  {
   "cell_type": "code",
   "execution_count": 80,
   "metadata": {},
   "outputs": [],
   "source": [
    "# db = Chroma.from_documents(docs, embeddings)"
   ]
  },
  {
   "cell_type": "code",
   "execution_count": null,
   "metadata": {},
   "outputs": [],
   "source": []
  },
  {
   "cell_type": "markdown",
   "metadata": {},
   "source": [
    "# Prompts"
   ]
  },
  {
   "cell_type": "code",
   "execution_count": 81,
   "metadata": {},
   "outputs": [],
   "source": [
    "from langchain.prompts import PromptTemplate"
   ]
  },
  {
   "cell_type": "code",
   "execution_count": 82,
   "metadata": {},
   "outputs": [],
   "source": [
    "prompt_template = \"\"\"\n",
    "You are an expert at creating questions based on the content in documents.\n",
    "Your goal is to prepare a student for their exam and tests.\n",
    "You do this by asking questions about the text below:\n",
    "\n",
    "------------\n",
    "{text}\n",
    "------------\n",
    "\n",
    "Create questions in an MCQ format with 4 possible solutions that will prepare the students for\n",
    "their tests. The output specifications are as follows:\n",
    "'question', 'possible_answers', 'correct_answer', 'explanation'. Separate the questions with a *.\n",
    "Make sure not to lose any important information.\n",
    "\n",
    "QUESTIONS:\n",
    "\"\"\"\n",
    "\n",
    "PROMPT_QUESTIONS = PromptTemplate(template=prompt_template, input_variables=[\"text\"])\n",
    "\n",
    "refine_template = (\"\"\"\n",
    "You are an expert at creating practice questions based on content in documents.\n",
    "Your goal is to help a stuednt prepare for their exams and test.\n",
    "We have received some practice questions to a certain extent: {existing_answer}.\n",
    "The question, possible answers, correct answer and explanation can be found in the 'question',\n",
    "'possible_answers','correct_answer' and 'explanation' fields respectively.\n",
    "We have the option to refine the existing questions or add new ones. \n",
    "(only if necessary) with some more context below. Separate the questions with a '*'.\n",
    "------------\n",
    "{text}\n",
    "------------\n",
    "\n",
    "Given the new context, refine the original questions in English.\n",
    "If the context is not helpful, please provide the original questions.\n",
    "QUESTIONS:\n",
    "\"\"\"\n",
    ")\n",
    "\n",
    "REFINE_PROMPT_QUESTIONS = PromptTemplate(\n",
    "    input_variables=[\"existing_answer\", \"text\"],\n",
    "    template=refine_template,\n",
    ")"
   ]
  },
  {
   "cell_type": "code",
   "execution_count": 98,
   "metadata": {},
   "outputs": [],
   "source": [
    "map_template = \"\"\"\n",
    "You are an expert at summarising the important content in documents.\n",
    "Your goal is to prepare a student for their exam and tests by ensuring the summaries of documents are concise and informative.\n",
    "You do this by reading the document's text below carefully:\n",
    "\n",
    "------------\n",
    "{docs}\n",
    "------------\n",
    "\n",
    "Based on the text, please identify the main content\n",
    "\n",
    "Main Content:\n",
    "\"\"\"\n",
    "\n",
    "map_prompt = PromptTemplate(template=map_template, input_variables=[\"docs\"])\n",
    "\n",
    "reduce_template = (\"\"\"\n",
    "You are an expert at creating practice questions based on content in documents.\n",
    "Your goal is to help a stuednt prepare for their exams and test.\n",
    "We have received some summaries of the content that you need to prepare the students for:\n",
    "{docs}\n",
    "\n",
    "Create questions in an MCQ format with 4 possible solutions that will prepare the students for their tests. The output specifications are as follows:\n",
    "'question', 'possible_answers', 'correct_answer', 'explanation'.\n",
    "Make sure not to lose any important information.\n",
    "\"\"\"\n",
    ")\n",
    "\n",
    "reduce_prompt  = PromptTemplate(\n",
    "    input_variables=[\"docs\"],\n",
    "    template=reduce_template,\n",
    ")"
   ]
  },
  {
   "cell_type": "markdown",
   "metadata": {},
   "source": [
    "# LLM Pipeline\n",
    "This section integrates the above components together and generates the questions and answers."
   ]
  },
  {
   "cell_type": "code",
   "execution_count": 84,
   "metadata": {},
   "outputs": [],
   "source": [
    "from langchain.chains.summarize import load_summarize_chain\n",
    "from langchain.chains import RetrievalQA\n",
    "from langchain_core.vectorstores import VectorStoreRetriever\n",
    "from langchain.chains import MapReduceDocumentsChain, ReduceDocumentsChain, LLMChain, StuffDocumentsChain"
   ]
  },
  {
   "cell_type": "markdown",
   "metadata": {},
   "source": [
    "## Testing of MapReduce for Large text"
   ]
  },
  {
   "cell_type": "code",
   "execution_count": 99,
   "metadata": {},
   "outputs": [],
   "source": [
    "\n",
    "map_chain = LLMChain(llm=answer_llm, prompt=map_prompt)\n",
    "reduce_chain = LLMChain(llm=question_llm, prompt=reduce_prompt)\n",
    "\n",
    "combine_documents_chain = StuffDocumentsChain(\n",
    "    llm_chain=reduce_chain, document_variable_name=\"docs\"\n",
    ")\n",
    "\n",
    "# Combines and iteratively reduces the mapped documents\n",
    "reduce_documents_chain = ReduceDocumentsChain(\n",
    "    # This is final chain that is called.\n",
    "    combine_documents_chain=combine_documents_chain,\n",
    "    # If documents exceed context for `StuffDocumentsChain`\n",
    "    collapse_documents_chain=combine_documents_chain,\n",
    "    # The maximum number of tokens to group documents into.\n",
    "    token_max=4000,\n",
    ")\n",
    "\n",
    "# Combining documents by mapping a chain over them, then combining results\n",
    "map_reduce_chain = MapReduceDocumentsChain(\n",
    "    # Map chain\n",
    "    llm_chain=map_chain,\n",
    "    # Reduce chain\n",
    "    reduce_documents_chain=reduce_documents_chain,\n",
    "    # The variable name in the llm_chain to put the documents in\n",
    "    document_variable_name=\"docs\",\n",
    "    # Return the results of the map steps in the output\n",
    "    return_intermediate_steps=False,\n",
    ")"
   ]
  },
  {
   "cell_type": "code",
   "execution_count": 100,
   "metadata": {},
   "outputs": [
    {
     "name": "stdout",
     "output_type": "stream",
     "text": [
      " **Question 1:**\n",
      "**question**: What is cloud computing?\n",
      "**possible_answers**:\n",
      "a) A model for enabling ubiquitous, convenient, on-demand network access to a shared pool of configurable computing resources.\n",
      "b) A type of software that allows users to access their files from any device.\n",
      "c) A way to store data online.\n",
      "d) A type of computer that is connected to the internet.\n",
      "**correct_answer**: a) A model for enabling ubiquitous, convenient, on-demand network access to a shared pool of configurable computing resources.\n",
      "**explanation**: Cloud computing is a model for enabling ubiquitous, convenient, on-demand network access to a shared pool of configurable computing resources. This means that users can access computing resources, such as storage, processing power, and software, over the internet on a pay-as-you-go basis.\n",
      "\n",
      "**Question 2:**\n",
      "**question**: Which of the following is not a key cloud concept?\n",
      "**possible_answers**:\n",
      "a) On-demand self-service\n",
      "b) Broad network access\n",
      "c) Resource pooling\n",
      "d) Rapid elasticity\n",
      "**correct_answer**: c) Resource pooling\n",
      "**explanation**: Resource pooling is not a key cloud concept. The key cloud concepts are on-demand self-service, broad network access, rapid elasticity, and measured service.\n",
      "\n",
      "**Question 3:**\n",
      "**question**: Which of the following is not a deployment scenario for cloud computing?\n",
      "**possible_answers**:\n",
      "a) Private cloud\n",
      "b) Public cloud\n",
      "c) Hybrid cloud\n",
      "d) Multicloud\n",
      "**correct_answer**: b) Public cloud\n",
      "**explanation**: Public cloud is not a deployment scenario for cloud computing. The deployment scenarios for cloud computing are private cloud, hybrid cloud, and multicloud.\n",
      "\n",
      "**Question 4:**\n",
      "**question**: Which of the following is not a cloud computing service model?\n",
      "**possible_answers**:\n",
      "a) Infrastructure-as-a-Service (IaaS)\n",
      "b) Platform-as-a-Service (PaaS)\n",
      "c) Software-as-a-Service (SaaS)\n",
      "d) Network-as-a-Service (NaaS)\n",
      "**correct_answer**: d) Network-as-a-Service (NaaS)\n",
      "**explanation**: Network-as-a-Service (NaaS) is not a cloud computing service model. The cloud computing service models are Infrastructure-as-a-Service (IaaS), Platform-as-a-Service (PaaS), and Software-as-a-Service (SaaS).\n",
      "\n",
      "**Question 5:**\n",
      "**question**: Which of the following is not an advantage of cloud computing?\n",
      "**possible_answers**:\n",
      "a) Lower computer costs\n",
      "b) Unlimited storage capacity\n",
      "c) Increased data reliability\n",
      "d) Reduced software costs\n",
      "**correct_answer**: d) Reduced software costs\n",
      "**explanation**: Reduced software costs is not an advantage of cloud computing. The advantages of cloud computing are lower computer costs, unlimited storage capacity, increased data reliability, improved performance, and easier group collaboration.\n"
     ]
    }
   ],
   "source": [
    "res = map_reduce_chain.run(document_ques_gen)\n",
    "print(res)"
   ]
  },
  {
   "cell_type": "code",
   "execution_count": 104,
   "metadata": {},
   "outputs": [],
   "source": [
    "# Save res to txt\n",
    "output_file = \"static/output/questions.md\"\n",
    "with open(output_file, \"w\") as f:\n",
    "    f.write(res)"
   ]
  },
  {
   "cell_type": "code",
   "execution_count": null,
   "metadata": {},
   "outputs": [],
   "source": []
  },
  {
   "cell_type": "markdown",
   "metadata": {},
   "source": [
    "## Testing of Refine Chain for Smaller Text"
   ]
  },
  {
   "cell_type": "code",
   "execution_count": 88,
   "metadata": {},
   "outputs": [
    {
     "name": "stdout",
     "output_type": "stream",
     "text": [
      "\n",
      "\n",
      "\u001b[1m> Entering new RefineDocumentsChain chain...\u001b[0m\n",
      "\n",
      "\n",
      "\u001b[1m> Entering new LLMChain chain...\u001b[0m\n",
      "Prompt after formatting:\n",
      "\u001b[32;1m\u001b[1;3m\n",
      "You are an expert at creating questions based on the content in documents.\n",
      "Your goal is to prepare a student for their exam and tests.\n",
      "You do this by asking questions about the text below:\n",
      "\n",
      "------------\n",
      "CE/CZ4052Cloud ComputingBasics, IaaS, PaaS, SaaSDr. Tan, Chee WeiEmail: cheewei.tan@ntu.edu.sgOffice: N4-02c-104Outline\n",
      "1Real-world examples of the cloud Definitions of cloud computingKey cloud concepts and characteristics Deployment scenariosCloud:MassiveScale\n",
      "2Facebook[GigaOM,2012]30Kin2009->60Kin2010->100Kin2012Microsoft[DCknowledge]>1million,2013AWSEC2[RandyBias,2009]40K,8corespermachineGoogle[DCknowledge]>900K,2013Datacenter:outside\n",
      "Copyright:Google4Datacenter:outside\n",
      "Copyright:GooglesDatacenter:inside\n",
      "Copyright:Google6Serverracks\n",
      "7Photocredit:GoogleServer:inside\n",
      "Copyright:xsnetsServercage\n",
      "9Network room\n",
      "Copyright:Google10CoolingfunctionalityPowerfunctionality\n",
      "11Copyright:GigaOM\n",
      "Copyright: NationofChangehttps://www.youtube.com/watch?v=XZmGGAbHqa0Explore Google DatacenterCloudproviders\n",
      "12amazonwebservices™\n",
      "Cloud-basedservices\n",
      "13\n",
      "Cloudvendors\n",
      "14\n",
      "Sowhatisacloud?\n",
      "15serv•ices--Cloud corecloud edgeData centers and InternetAdefinition\n",
      "16Cloud computing is a model for enabling ubiquitous, convenient, on-demand network access to a shared pool of configurable computing resources (e.g., networks, servers, storage, applications, and services) that can be rapidly provisioned and released with minimal management effortor service provider interactionFour types of cloud computing: private clouds, public clouds, hybrid clouds and multicloudsNationalInstituteofStandardsandTechnology(NIST),U.S.DepartmentofCommerceOn-demandself-service\n",
      "20Supposeyouopenastart-up,andneeds20serversforthebusiness, cloud computing enables on-demand service\n",
      "On-demandself-service\n",
      "18\n",
      "19A consumer can unilaterally provision computing capabilities, such as servers and network storage, as needed automatically without requiring human interaction with each service provider.Cloud computing makes the underlying technology, beyond the user device, almost invisible and transparent to usersAdvantages for consumers: flexible, minimal overhead, quick and easyOn-demandself-serviceBroadnetworkaccess\n",
      "20\n",
      "Broadnetworkaccess\n",
      "21Capabilities are available over the network and accessed through standard mechanisms that promote use by heterogeneous thin or thick client platforms (e.g., smart phones, tablets, laptops, and workstations).Advantages for consumers: \"Always-on\" experience, like utilities (electricity)Allows big amount of data to be collected from cloud edgeCloud computing enables scalable machine learning techniques to power Artificial Intelligence (AI) applicationsResourcepooling\n",
      "22Fromtheprovider'sperspective23The provider's resources are pooled to serve consumers using a multi-tenant model, with different physical and virtual resources dynamically allocated according to consumer demand.Location independence: the customer generally has no control or knowledge over the exact location of the provided resources but may be able to specify location at a higher level of abstraction (e.g., country, state, or datacenter).Advantage for providers: efficiency in utilizationResourcepooling24Resources can be rapidly and elastically scaled up and down. Suppose your business grows and needs 40 servers now. Elastic provisioning outperforms static provisioning\n",
      "Cloud rapid elasticity25Withcloudcomputing\n",
      "Advantageforconsumers:flexible,quickandeasy\n",
      "Cloud rapid elasticityCloud economics\n",
      "26A cloud automatically controls and optimizes resource use by leveraging a metering capability at some level of abstraction appropriate to the type of serviceResource usage can be monitored, controlled, and reported, providing transparency for both the provider and consumerCloud economics to match supply and demand. How to optimize cloud resources to match computing and storage demands?Cloud economics: Who determines price and pricing strategiesPay-as-you-go, pay only for what you useSocialcloud computingGeneralize cloud computing to include the sharing, bartering and renting of computing resources across peers whose owners and operators are verified through a social network or reputation systemBasis of emerging Web 3.0 applications past the confines of formal commercial data centers operated by cloud providers to include anyone interested in participating within the cloud services sharing economyBerkeley Open Infrastructure for Network Computing  Subutai P2P Edge Cloud Platform (https://subutai.io)Decentralized applications (dApps)https://en.wikipedia.org/wiki/Social_cloud_computingCloud Summary\n",
      "28Cloud computing is an umbrella term used to refer to Internet based development and servicesA number of characteristics define cloud data, applications services and infrastructure:Remotely hosted: Services or data are hosted on remote infrastructure. Ubiquitous: Services or data are available from anywhere.Commodified: The result is a utility computing model similar to traditional that of traditional utilities, like gas and electricity -you pay for what you would want!29Infrastructure-as-a-Service (laaS) Platform-as-a-Service (PaaS) Software-as-a-Service (SaaS)Opportunities and ChallengesAdvantages and Disadvantages of cloud computingOutlinelaaS\n",
      "30Infrastructure-as-a-Service (IaaS)Providers give you the computing infrastructure made available as a service. You get \"bare-metal\" machines.Providers manage a large pool of resources (i.e., servers), and use virtualization to dynamically allocate serversCustomers \"rent\" these physical resources to customizetheir own infrastructureYou operate the Operating System (OS) and all the software on the servers by yourselflaaS\n",
      "31ftInfrastructure-as-a-Service (IaaS)Virtualization and Virtual Machines\n",
      "laaSApplications\n",
      "32Netflix rents thousands of servers, terabytes of storage from Amazon Web Services (AWS)Develop and deploy specialized software for transcoding, storage, streaming, analytics, etc. on top of service deliveryAble to support tens of millions of connected devices used by 40+ million users from 40+ countriesVirtualization¨Virtual workspaces: ¤An abstraction of an execution environment that can be made dynamically available to authorized clients by using well-defined protocols, ¤Resource quota (e.g. CPU, memory share),¤Software configuration (e.g. O/S, provided services). ¨Implement on Virtual Machines (VMs): ¤Abstraction of a physical host machine,¤Hypervisor intercepts and emulates instructions from VMs, and allows management of VMs,¤VMWare, Xen, etc.¨Provide infrastructure API:¤Plug-ins to hardware/support structuresHardwareOSAppAppAppHypervisorOSOSVirtualized StackVirtual MachinesVM technology allows multiple virtual machines to run on a single physical machine.\n",
      "HardwareVirtual Machine Monitor (VMM) / HypervisorGuest OS(Linux)Guest OS(NetBSD)Guest OS(Windows)VMVMVMAppAppAppAppAppXenVMWareUMLDenalietc.Performance: Para-virtualization (e.g. Xen) is very close to raw physical performance!PaaS\n",
      "35Platform-as-a-Service (PaaS)Providers give users with a software platform or middleware where applications runYou develop and maintain and deploy your own software on top of the platformThe hardware needed to run the software is automatically managed by the platform. There are limitations on explicit management of resources.Examples: SQL as a service (SQLaaS), Matlab, GurobiPaaS\n",
      "36You have automated scalability without the need to respond to request load increase or decreaseIdeal for deployment of mobile apps, webapps etc.Application programming interface (API) support via popular languages likePython,Javascript, Java,PHP,andGo\n",
      "SaaS\n",
      "37Software-as-a-Service (SaaS)Providers give you a piece of software/application, and take care of updating, maintaining and troubleshooting the application.As end user, you simply use the software using the Internet.Business model of SaaS: business-to-business (B2B), business-to-clients (B2C) that cover numerous retail end usersApplications of SaaS\n",
      "38Nowadays, many institutions use Google Apps, Apple cloud and Office 365 for emails, video meeting, calendar, etc.Business use SaaS for payment and transactions. Legal industry relies on SaaS for compliance, creative industry relies on SaaS for artwork (e.g., computer-generated images). Engineers rely on SaaS to design circuits/software. Students rely  on SaaS to learn and collaborate.What are scientific applications of SaaS?\n",
      "SaaS Maturity Model\n",
      "39Level 2: Configurable per customer\n",
      "Source: Frederick Chong and Gianpaolo Carraro, “Architectures Strategies for Catching the  Long Tail”\n",
      "Level 3: configurable & Multi-Tenant-EfficientLevel 1: Ad-Hoc/Custom –One Instance per customer\n",
      "Level 4: Scalable, Configurable & Multi-Tenant-EfficientComparisonof IaaS, PaaS, SaaS\n",
      "40Convenience/Easeofmanagement/Business Models Tradeoff betweenflexibilityand\"built-in\"functionality\n",
      "Opportunities and ChallengesThe use of the cloud provides a number of opportunities: IaaS enables services to be used without any understanding of their infrastructure.Cloud computing works using economies of scale:nIaaS and PaaS potentially lower the outlay expense for start up companies, as they would no longer need to buy their own software or servers. nCost would be by on-demand pricing in IaaS, PaaS and SaaS. nCloud providers claim costs by establishing an ongoing revenue stream.Data and services are stored remotely but accessible from “anywhere” in SaaS. Opportunities and ChallengesIn parallel there has been backlash against cloud computing:Use of cloud computing means dependence on others and that could possibly limit flexibility and innovation:nThe others are likely become the bigger Internet companies like Google and IBM, who may monopolise the market. nSome argue that this use of supercomputers is a return to the time of mainframe computing that the PC was a reaction against.Security could prove to be a big issue:nIt is still unclear how safe out-sourced data to SaaS is and when using these services ownership of data in SaaS is not always clear.There are also issues relating to policy and access: nIf your data is stored abroad whose policy do you adhere to? nWhat happens if the remote server goes down? nHow will you then access files? nThere have been cases of users being locked out of accounts and losing access to data.Advantages of Cloud ComputingIaaS leads to lower computer costs: You do not need a high-powered and high-priced computer to run cloud computing's web-based applications. Since applications run in the cloud, not on the desktop PC, your desktop PC does not need the processing power or hard disk space demanded by traditional desktop software. When you are using web-based applications, your PC can be less expensive, with a smaller hard disk, less memory, more efficient processor... In fact, your PC in this scenario does not even need a CD or DVD drive, as no software programs have to be loaded and no document files need to be saved.Advantages of Cloud ComputingIaaS leads to unlimited storage capacity:Cloud computing offers virtually limitless storage. Your computer's current 1 Tbytehard drive is small compared to the hundreds of Pbytesavailable in the cloud.IaaS leads to increased data reliability:Unlike desktop computing, in which if a hard disk crashes and destroy all your valuable data, a computer crashing in the cloud should not affect the storage of your data.if your personal computer crashes, all your data is still out there in the cloud, still accessibleIn a world where few individual desktop PC users back up their data on a regular basis, cloud computing is a data-safe computing platform!Advantages of Cloud ComputingPaaS leads to improved performance:With few large programs hogging your computer's memory, you will see better performance from your PC. Computers in a cloud computing system boot and run faster because they have fewer programs and processes loaded into memory…SaaS leads to reduced software costs: Instead of purchasing expensive software applications, you can get most of what you need for free-ish!-most cloud computing applications today, such as the Google Docs suite.Better than paying for similar commercial software-which alone may be justification for switching to cloud applications.Advantages of Cloud ComputingPaaS and SaaS take care of instant software updates:Another advantage to cloud computing is that you are no longer faced with choosing between obsolete software and high upgrade costs.With web-based applications (i.e., SaaS), updates happen automatically -available the next time you log into the cloud. When you access a web-based application, you get the latest version -without needing to pay for or download an upgrade.SaaS leads to improved document format compatibility. You do not have to worry about the documents you create on your machine being compatible with other users' applications or OSesThere are potentially no format incompatibilities when everyone is sharing documents and applications in the cloud.Advantages of Cloud ComputingSaaS leads to universal document access:That is not a problem with cloud computing, because you do not take your documents with you. Instead, they stay in the cloud, and you can access them whenever you have a computer and an Internet connectionDocuments are instantly available from wherever you areSaaS leads to latest version availability:When you edit a document at home, that edited version is what you see when you access the document at work. The cloud always hosts the latest version of your documents-as long as you are connected, you are not in danger of having an outdated versionAdvantages of Cloud ComputingSaaS leads to easier group collaboration:Sharing documents leads directly to better collaboration.Many users do this as it is an important advantages of cloud computingnmultiple users can collaborate easily on documents and projectsDevice independence. You are no longer tethered to a single computer or network. Changes to computers, applications and documents follow you through the cloud. Move to a portable device, and your applications and documents are still available.Disadvantages of Cloud ComputingRequires a constant Internet connection:Cloud computing is impossible if you cannot connect to the Internet. Since you use the Internet to connect to both your applications and documents, if you do not have an Internet connection you cannot access anything, even your own documents. A dead Internet connection means no work and in areas where Internet connections are few or inherently unreliable, this could be a deal-breaker. Disadvantages of Cloud ComputingDoes not work well with low-speed connections: Similarly, a low-speed Internet connection, such as that found with dial-up services, makes cloud computing painful at best and often impossible. Web-based applications require a lot of bandwidth to download, as do large documents. Features might be limited:This situation is bound to change, but today many web-based applications simply are not as full-featured as their desktop-based applications.nFor example, you can do a lot more with Microsoft PowerPoint than with Google Presentation's web-based offeringDisadvantages of Cloud ComputingCan be slow:Even with a fast connection, web-based applications can sometimes be slower than accessing a similar software program on your desktop PC. Everything about the program, from the interface to the current document, has to be sent back and forth from your computer to the computers in the cloud. If the cloud servers happen to be backed up at that moment, or if the Internet is having a slow day, you would not get the instantaneous access you might expect from desktop applications.Disadvantages of Cloud ComputingStored data might not be secure:With cloud computing, all your data is stored on the cloud. nThe questions is How secure is the cloud? Can unauthorisedusers gain access to your confidential data? Stored data can be lost:Theoretically, data stored in the cloud is safe, replicated across multiple machines. But on the off chance that your data goes missing, you have no physical or local backup. Put simply, relying on the cloud puts you at risk if the cloud lets you down.Disadvantages of Cloud ComputingHPC Systems:Not clear that you can run compute-intensive HPC applications that use MPI/OpenMP!Scheduling is important with this type of applicationnas you want all the VM to be co-located to minimize communication latency!General Concerns:Each cloud systems uses different protocols and different APIs-may not be possible to run applications between cloud based systemsAmazon has created its own DB system (not SQL), and workflow system (many popular workflow systems out there)-so your normal applications will have to be adapted to execute on these platforms.\n",
      "------------\n",
      "\n",
      "Create questions in an MCQ format with 4 possible solutions that will prepare the students for their tests. The output specifications are as follows:\n",
      "'question', 'possible_answers', 'correct_answer', 'explanation'. Separate the questions with a '*'.\n",
      "Make sure not to lose any important information.\n",
      "\n",
      "QUESTIONS:\n",
      "\u001b[0m\n",
      "\n",
      "\u001b[1m> Finished chain.\u001b[0m\n",
      "\n",
      "\u001b[1m> Finished chain.\u001b[0m\n"
     ]
    }
   ],
   "source": [
    "import ast\n",
    "ques_gen_chain = load_summarize_chain(llm = question_llm, \n",
    "                                            chain_type = \"refine\", \n",
    "                                            verbose = True, \n",
    "                                            question_prompt=PROMPT_QUESTIONS, \n",
    "                                            refine_prompt=REFINE_PROMPT_QUESTIONS)\n",
    "\n",
    "# Outputs a list of questions\n",
    "ques = ques_gen_chain.run([Document(page_content=question_gen)])\n",
    "\n",
    "# ques = [\" {\\n 'question': 'Which of the following is not one of the three guarantees in the CAP theorem?',\\n 'possible_answers': ['Consistency', 'Availability', 'Partition-tolerance', 'Reliability'],\\n 'correct_answer': 'Reliability',\\n 'explanation': 'The CAP theorem describes the trade-offs between Consistency, Availability, and Partition-tolerance in distributed systems.'\\n},\\n*\\n{\\n 'question': 'What does the CAP theorem state?',\\n 'possible_answers': ['It is impossible for a distributed system to provide all three guarantees of Consistency, Availability, and Partition-tolerance at the same time.', 'A distributed system can satisfy any two of the three guarantees at the same time but not all three.', 'A distributed system can only satisfy one of the three guarantees at a time.', 'A distributed system can always satisfy all three guarantees at the same time.'],\\n 'correct_answer': 'A distributed system can satisfy any two of the three guarantees at the same time but not all three.',\\n 'explanation': 'The CAP theorem states that it is impossible for a distributed system to provide all three guarantees of Consistency, Availability, and Partition-tolerance at the same time.'\\n},\\n*\\n{\\n 'question': 'Which of the following is an example of an AP system?',\\n 'possible_answers': ['Web Caching', 'DNS', 'Majority protocols', 'Distributed Locking'],\\n 'correct_answer': 'Web Caching',\\n 'explanation': 'AP systems relax consistency in favor of availability. Web Caching is an example of an AP system because it allows for stale data to be served in order to improve performance.'\\n},\\n*\\n{\\n 'question': 'Which of the following is an example of a CP system?',\\n 'possible_answers': ['Web Caching', 'DNS', 'Majority protocols', 'Distributed Locking'],\\n 'correct_answer': 'Distributed Locking',\\n 'explanation': 'CP systems sacrifice availability for consistency. Distributed Locking is an example of a CP system because it ensures that only one node can access a shared resource at a time, even if it means that other nodes may be unavailable.'\\n},\\n*\\n{\\n 'question': 'What is eventual consistency?',\\n 'possible_answers': ['A specific form of weak consistency', 'A type of strong consistency', 'A type of partition-tolerance', 'A type of availability'],\\n 'correct_answer': 'A specific form of weak consistency',\\n 'explanation': 'Eventual consistency is a specific form of weak consistency that guarantees that if no new updates are made to an object, eventually all accesses will return the last updated value.'\\n},\\n*\\n{\\n 'question': 'Why does Facebook use an eventually consistent model?',\\n 'possible_answers': ['To reduce the load and improve availability', 'To ensure strong consistency', 'To improve partition-tolerance', 'To reduce the cost of storage'],\\n 'correct_answer': 'To reduce the load and improve availability',\\n 'explanation': 'Facebook uses an eventually consistent model to reduce the load and improve availability. With over 1 billion active users, it is non-trivial to efficiently and reliably store the huge amount of data generated at any given time.'\\n},\\n*\\n{\\n 'question': 'What is the trade-off between consistency and availability in an airline reservation system?',\\n 'possible_answers': ['When most of the seats are available, availability is more critical; when the plane is close to being filled, consistency is more critical.', 'When most of the seats are available, consistency is more critical; when the plane is close to being filled, availability is more critical.', 'There is no trade-off between consistency and availability in an airline reservation system.', 'The trade-off between consistency and availability is the same regardless of the number of seats available.'],\\n 'correct_answer': 'When most of the seats are available, availability is more critical; when the plane is close to being filled, consistency is more critical.',\\n 'explanation': 'When most of the seats are available, it is ok to rely on somewhat out-of-date data, availability is more critical. When the plane is close to be filled, it needs more accurate data to ensure the plane is not overbooked, consistency is more critical.'\\n}\"]\n",
    "ques_list = ques.split(\",\\n'*',\\n\")\n",
    "formatted_ques_list = []\n",
    "for i, q in enumerate(ques_list):\n",
    "    f_q = ast.literal_eval(q)\n",
    "    formatted_ques_list.append(f_q)\n",
    "    # print(f_q)\n",
    "\n",
    "    \n",
    "# ques_list = ques.split(\"\\n\")\n",
    "# filtered_ques_list = [element for element in ques_list if element.endswith('?') or element.endswith('.')]"
   ]
  },
  {
   "cell_type": "code",
   "execution_count": null,
   "metadata": {},
   "outputs": [],
   "source": []
  },
  {
   "cell_type": "code",
   "execution_count": null,
   "metadata": {},
   "outputs": [],
   "source": []
  },
  {
   "cell_type": "code",
   "execution_count": 89,
   "metadata": {},
   "outputs": [],
   "source": [
    "# Answer generation\n",
    "# retriever = VectorStoreRetriever(vectorstore=db)\n",
    "# answer_gen_chain = RetrievalQA.from_llm(llm = answer_llm, retriever=db.as_retriever())"
   ]
  },
  {
   "cell_type": "markdown",
   "metadata": {},
   "source": [
    "# Output CSV"
   ]
  },
  {
   "cell_type": "code",
   "execution_count": 90,
   "metadata": {},
   "outputs": [],
   "source": [
    "import os\n",
    "import csv\n",
    "\n",
    "fields = formatted_ques_list[0].keys()\n",
    "\n",
    "base_folder = 'static/output/'\n",
    "if not os.path.isdir(base_folder):\n",
    "    os.mkdir(base_folder)\n",
    "output_file = base_folder+\"QA.csv\"\n",
    "with open(output_file, \"w\", newline=\"\", encoding=\"utf-8\") as csvfile:\n",
    "    writer = csv.DictWriter(csvfile, fieldnames=fields)\n",
    "\n",
    "    writer.writeheader()\n",
    "\n",
    "    for q in formatted_ques_list:\n",
    "        writer.writerow(q)\n",
    "\n",
    "\n",
    "    # csv_writer = csv.writer(csvfile)\n",
    "    # csv_writer.writerow([\"Question\", \"Answer\"])  # Writing the header row\n",
    "\n",
    "    # for question in filtered_ques_list:\n",
    "    #     print(\"Question: \", question)\n",
    "    #     answer = answer_gen_chain.run(question)\n",
    "    #     print(\"Answer: \", answer)\n",
    "    #     print(\"--------------------------------------------------\\n\\n\")\n",
    "\n",
    "    #     # Save answer to CSV file\n",
    "    #     csv_writer.writerow([question, answer])"
   ]
  },
  {
   "cell_type": "code",
   "execution_count": 91,
   "metadata": {},
   "outputs": [
    {
     "data": {
      "text/plain": [
       "dict"
      ]
     },
     "execution_count": 91,
     "metadata": {},
     "output_type": "execute_result"
    }
   ],
   "source": [
    "import json\n",
    "with open(\"static/output/process_txt.json\", \"r\") as f:\n",
    "        d = json.load(f)\n",
    "type(d)"
   ]
  },
  {
   "cell_type": "code",
   "execution_count": 92,
   "metadata": {},
   "outputs": [
    {
     "data": {
      "text/plain": [
       "{'text': 'CE/CZ4052Cloud ComputingDistributed Computingvia SaaS: API, RESTDr. Tan, Chee WeiEmail: cheewei.tan@ntu.edu.sgOffice: N4-02c-104Traditional web applications\\nClientServerGET /the-resource...200 OK<html>Code...</html>\\nDisplays the page, then user clickson link.GET /another-resource...200 OK<html>Code...</html>\\nDisplays the other page, ...Traditional web applicationsThe interface is built on HTML & HTTP.•Drawbacks:–The client must understand both HTTP and HTML.–The entire webpage is replaced with another one.•No way to animate transitions between webpages.–Same data is usually sent in multiple responses.•E.g. HTML code for the layout.Traditional web applications\\nClientServer\\nHTTP & HTMLClient???•HTTP & HTML can be used, but is not optimal.•The GUI on smartphones does not use HTML.•E.g. GET /users/3:\\n<h1>Claire</h1><p>Claire is 24 years old and lives in Boston.</p>NameAgeCityApplication Programming InterfaceAn API is an interface for Machine ↔ Machine communication.•An API making use of HTTP is called a Web API.A GUI is an interface for Human ↔ Machine communication.\\nServer\\nClientAPIGUI\\nUserDifferent types of Web APIs•Remote Procedure Call, RPC.–Clients can call functions on the server.•Remote Method Invocation, RMI.–Clients can call methods on objects on the server.•Representational State Transfer, REST.–Clients can apply CRUD operations on resources on the server.What is REST?An architectural style for distributed hypermedia systems described by Roy Thomas Fielding in his doctoral dissertation 2000.•Consists of constraints:1.Client - Server2.Stateless3.Cache4.Uniform Interface5.Layered System6.Code-On-DemandClientServerServerRelationalDatabaseWeb ApplicationWeb BrowserHTTPSQLhttps://en.wikipedia.org/wiki/Roy_FieldingWhat does REST mean?The name \"Representational State Transfer\" is intended to evoke an image of how a well-designed Web application behaves: a network of web pages (a virtual state-machine), where the user progresses through the application by selecting links (state transitions), resulting in the next page (representing the next state of the application) being transferred to the user and rendered for their use.From Roy\\'s dissertation.What does REST mean?\\nServer\\nIdName1Alice2Bob3ClaireUsers\\nClientGET /users/2...{\"id\": 2, \"name\": \"Bob\"}\\nChanges state.{\"id\": 2, \"name\": \"Obi\"}PUT /users/2{\"id\": 2, \"name\": \"Obi\"}Using HTTP as the Uniform Interface•Use URIs to identify resources.•Use HTTP methods to specify operation:–Create: POST (or PUT)–Retrieve: GET–Update: PUT (or PATCH)–Delete: DELETE•Use HTTP headersContent-Type and Acceptto specify data format for the resources.•Use HTTP status code to indicate success/failure.BadPOST /loginPOST /create-bookGET /get-top-10-booksGoodPOST /login-sessionsPOST /booksGET /top-10-booksUsing HTTP as the Uniform InterfaceREST is an architectural style, not a specification.•In practice, it can be used in many different ways.–But some are better than others.Good recommendations:•Web API Design - Crafting Interfaces that Developers Love–https://pages.apigee.com/rs/apigee/images/api-design-ebook-2012-03.pdfREST ExampleA server with information about users.•The GET method is used to retrieve resources.–GET /users–GET /users/2–GET /users/pages/1–GET /users/gender/female–GET /users/age/18–GET /users/???–GET /users/2/name–GET /users/2/petsGET /users?page=1GET /users?gender=femaleGET /users?age=18GET /users?gender=female&age=18\\nIdName1Alice2Bob3ClaireUsersREST ExampleA server with information about users.•The GET method is used to retrieve resources.–Which data format? Specified by the Accept header!\\nGET /users HTTP/1.1Host: the-website.comAccept: application/json\\nHTTP/1.1 200 OKContent-Type: application/jsonContent-Length: 66[  {\"id\": 1, \"name\": \"Alice\"},  {\"id\": 2, \"name\": \"Bob\"}]application/xml was popular before JSON.\\nIdName1Alice2Bob3ClaireUsersREST ExampleA server with information about users.•The POST method is used to create resources.–Which data format? Specified by the Accept and Content-Type header!\\nPOST /users HTTP/1.1Host: the-website.comAccept: application/jsonContent-Type: application/xmlContent-Length: 49<user>  <name>Claire</name></user>\\nHTTP/1.1 201 CreatedLocation: /users/3Content-Type: application/jsonContent-Length: 28{\"id\": 3, \"name\": \"Claire\"}\\nIdName1Alice2Bob3ClaireUsersREST ExampleA server with information about users.•The PUT method is used to update an entire resource.\\nPUT /users/3 HTTP/1.1Host: the-website.comContent-Type: application/xmlContent-Length: 52<user>  <id>3</id>  <name>Cecilia</name></user>\\nHTTP/1.1 204 No ContentPUT can also be used to create a resource if you know which URI it should have in advance.\\nIdName1Alice2Bob3ClaireUsersREST ExampleA server with information about users.•The DELETE method is used to delete a resource.\\nDELETE /users/2 HTTP/1.1Host: the-website.com\\nHTTP/1.1 204 No Content\\nIdName1Alice2Bob3ClaireUsersREST ExampleA server with information about users.•The PATCH method is used to update parts of a resource.\\nPATCH /users/1 HTTP/1.1Host: the-website.comContent-Type: application/xmlContent-Length: 37<user>  <name>Amanda</human></user>\\nHTTP/1.1 204 No ContentThe PATCH method is only a proposed standard.\\nIdName1Alice2Bob3ClaireUsersREST ExampleA server with information about users.•What if something goes wrong?–Use the HTTP status codes to indicate success/failure.\\nGET /users/999 HTTP/1.1Host: the-website.comAccept: application/json\\nHTTP/1.1 404 Not Found•Read more about the different status codes at:•http://www.restapitutorial.com/httpstatuscodes.html •Optionally include error messages in the response body.\\nIdName1Alice2Bob3ClaireUsersDesigning a REST APIHow should you think?•Make it as easy as possible to use by other programmers.Facebook:–Always return 200 OK.–GET /v2.7/{user-id}–GET /v2.7/{post-id}–GET /v2.7/{user-id}/friends–GET /v2.7/{object-id}/likesDesigning a REST APIHow should you think?•Make it as easy as possible to use by other programmers.Twitter:–Only use GET and POST.–GET  /1.1/users/show.json?user_id=2244994945–POST /1.1/favorites/destroy.json?id=243138128959913986CS193X:Web ProgrammingFundamentalsSpring 2017Victoria Kirst(vrk@stanford.edu)ScheduleToday:-Querying REST APIs-Form submission-Fetch API gotchas-CORS-Closures-Single-threaded asynchrony-JS Event loopMonday: NodeJS!JSONJavaScript Object NotationJSON: Stands for JavaScript Object Notation-Created by Douglas Crockford-Defines a way of serializing JavaScript objects-to serialize: to turn an object into a string that can be deserialized-to deserialize: to turn a serialized string into an objectFetch API and JSONThe Fetch API also has built-in support for JSON:function onJsonReady(json) {  console.log(json);}function onResponse(response) {  return response.json();}fetch(\\'images.json\\')    .then(onResponse)    .then(onJsonReady);Return response.json() instead of response.text() and Fetch will essentially call JSON.parse() on the response string.Querying REST APIsRESTful APIRESTful API: URL-based API that has these properties:-Requests are sent as an HTTP request:-HTTP Methods: GET, PUT, POST, DELETE, etc-Requests are sent to base URL, also known as an \"API Endpoint\"-Requests are sent with a specified MIME/content type, such as HTML, CSS, JavaScript, plaintext, JSON, etc.API endpoint example\\n-presentation: Tells the server that we are requesting a doc of type \"presentation\"-d/1Rim3-IXt6yN7yny_SBv7B5NMBiYbaQEiRMUD5s66uN8: Tells the server to request a doc (\"d\") with the document id of \"1Rim3-IXt6yN7yny_SBv7B5NMBiYbaQEiRMUD5s66uN8\"Look at the URL for this Google slide deck:https://docs.google.com/presentation/d/1Rim3-IXt6yN7yny_SBv7B5NMBiYbaQEiRMUD5s66uN8RESTful APIAlmost every website on the internet uses RESTful URLs / RESTful APIs to handle requests to its servers.Notable alternatives to REST:-GraphQL, -Used by Facebook since 2012-Open-sourced by Facebook since 2015-Still early but some big clients: GitHub, Pinterest-Falcor?-Netflix\\'s REST alternative, introduced ~2015-Probably cool but never hear of anyone using it-Doesn\\'t even have a Wikipedia pageUsing REST APIs3rd-Party APIsMany websites expose REST APIs to outside developers. These are often called \"3rd-party APIs\" or \"Developer APIs\"Examples:-Spotify-Giphy-GitHub-Hoards of Google APIs-Facebook-Instagram-Twitter-etc...Try Googling \"<product name> API\" to see if one exists for a given company!Example: SpotifySpotify has a REST API that external developers (i.e. people who aren\\'t Spotify employees) can query:\\nExample: SpotifyREST API structure (details): -The Base URL is https://api.spotify.com-The HTTP method is GET-The API endpoint to query is: https://api.spotify.com/v1/albums/<spotify_id>-It returns JSON data about the album that\\'s requested\\nExample: SpotifyIf we had Spotify Album ID 7aDBFWp72Pz4NZEtVBANi9, how would we make a GET request for the album information?REST API structure (details): -The Base URL is https://api.spotify.com-The HTTP method is GET-The API endpoint to query is: https://api.spotify.com/v1/albums/<spotify_id>-It returns JSON data about the album that\\'s requestedGET request: Browse to URLLoading a URL in a browser issues an HTTP GET request for that resource.So if we just piece together this URL:-API Endpoint: https://api.spotify.com/v1/albums/<spotify_id>-Album ID: 7aDBFWp72Pz4NZEtVBANi9-Request URL:https://api.spotify.com/v1/albums/7aDBFWp72Pz4NZEtVBANi9If you click on the link, you see it returns a JSON object.GET request: fetch()Actually, the fetch() API also issues an HTTP GET request by default. So if we do:fetch(\\'https://api.spotify.com/v1/albums/7aDBFWp72Pz4NZEtVBANi9\\')    .then(onResponse)    .then(onTextReady);...we can load the JSON data as a JavaScript object, as we did with our .json files!(CodePen / demo)Album exampleLet\\'s write a web page that asks the user to enter an artist\\'s name, then displays the albums of that artist, as provided by the Spotify Search API. (live demo)\\nSpotify search APISpotify Search URL:https://api.spotify.com/v1/search?type=album&q=queryE.g. https://api.spotify.com/v1/search?type=album&q=beyonceQ: Hey, what\\'s that at the end of the URL?-?type=album&q=beyonceQuery parametersYou can pass parameters to HTTP GET requests by adding query parameters to the URL:?type=album&q=beyonce-Defined as key-value pairs-param=value-The first query parameter starts with a ?-Subsequent query parameters start with &Reminder: HTML elements\\nSingle-line text input:In JavaScript, you can read and set the input text via inputElement.valueSome other input types:-Select-Textarea-CheckboxForm submitQ: What if you want the form to submit after you click \"enter\"?  \\nForm submit1.Wrap your input elements in a <form> \\nYou should also use <input type=\"submit\"> instead of <button> for the reason on the next slide...Form submit2. Listen for the \\'submit\\' event on the form element:\\nThis is why you want to use <input type=\"submit\"> instead of <button> -- the \\'submit\\' event will fire on click for but not <button>.Form submit3. Prevent the default action before handling the event through event.preventDefault():\\nThe page will refresh on submit unless you explicitly prevent it.\\nAlbum exampleSolution: GitHub / Demo\\nOther REST APIsGiphy API\\nhttps://github.com/Giphy/GiphyAPI#search-endpoint\\nYelp API\\nhttps://www.yelp.com/developers/documentation/v3/business_search\\nFetch gotchasCORS errorIf you try to fetch() this JSON file:http://web.stanford.edu/class/cs193x/lectures/18/albums.jsonYou get this error:\\nQ: Why do we get this error, when the JSON file is served over HTTP?CORSCORS: Cross-Origin Resource Sharing (wiki)-Browser policies for what resources a web page can load-Cross-origin: between two different domains-If abc.com/users requests something from abc.com/search, it\\'s still a same-origin request (not cross-origin) because it\\'s the same domain-But if abc.com/foo requests something from xyz.com/foo, it\\'s a cross-origin request.CORS summarized-You can make same-origin requests by default for any request type-You can make cross-origin requests by default for:-Images loaded via <img>-CSS files loaded via <link>-JavaScript files loaded via <script>-Etc-You cannot make cross-origin requests by default for:-Resources loaded via fetch() or XHRCORS configurationHowever, a web server can be configured to override these default rules:-If you want to allow other domains to make fetch() requests to your servers, you can configure your server to allow them (e.g. on apache)-All 3rd party APIs do this, otherwise you couldn\\'t access them-If you don\\'t want other domains to certain resources such as images, you can disallow themIn this classIn CS193X, we will either be:-Making same-origin requests-Making requests on APIs that have allowed cross-origin accessSo you don\\'t need to do anything with CORS for CS193X.Still, CORS is good to know about:-Helps you understand error messages-You may have to deal with this in the future (common scenario: file:// trying to access an HTTP resource: HTTP resource must allow CORS for this to be allowed)Fetch and closuresWhat if instead of code like this in a class: (CodePen)\\nFetch and closuresWe wrote code that looked like this, where onResponse and onJsonReady were inner functions (CodePen): \\nFetch and closuresEven if we bind loadAlbums:\\nWe get this error (CodePen):Closures and thisEvery function has its own \"this\" argument, meaning closures (inner functions) also have their own \"this\" arguments...\\nClosures and thisSo even if you\\'ve bound the this value for loadAlbums, it doesn\\'t bind the this value for the closures.\\nxSolution 1: Bind explicitly\\nYou can bind the closures to the this value of loadAlbums when it is called: (CodePen) Solution 2: Bind with =>Functions defined with the arrow syntax are auto-bound to the \"this\" of their enclosing context (CodePen):\\nSolution 2: Bind with =>\\nWe can also use the concise syntax:Single-threaded asynchronyRecall: Discography pageWe wrote a web page that lists the Mariah Carey albums stored in albums.json and lets us sort the albums: (CodePen / demo)\\nError?!If we click on one of the buttons before the albums load, we get an error: Why?!\\nOn page load\\nAppalbums.jsonscript.jsWhen we first load the page, the following things happen immediately:\\nSortButton1. Script creates App2. App creates SortButtons3. App requests albums.json through fetch()On page loadAppalbums.jsonscript.jsWhen the fetch() finishes, the app creates an Album object for each album that was fetched:\\nAlbum4. fetch() finishes5. App creates Album objectsBefore fetch() returnsAppalbums.jsonscript.jsHowever, before the fetch() completes, a user might click the sort button: \\nSortButtonClick event! \"App, you should sort your album data\"fetch() is still pendingThe albumInfo field  is filled out after the fetch() from loadAlbums() returns\\nBut if the button is clicked before fetch() returns,  albumInfo is not defined yet and we get an error.\\nAsynchronous events\\nAppalbums.jsonscript.jsSortButtonClick event!Fetch finishes!We have written our code in a way that assumes fetch() will complete before clicking, but on a slow connection, that\\'s not a safe assumption.General problemThe problem stated generically:-There are 2+ events that can occur at unpredictable times, and the two events are dependent on each other in some way(Some people call this a \"race condition\", though other people reserve the term for multiple threads only.)Clickevent!Fetch finishes!SolutionsYou can either \"force\" loading to occur before button click, for example: -Disable buttons until the JSON loads-OR: Don\\'t show buttons until the JSON loads -OR: Don\\'t show the UI at all until the JSON completesDon\\'t show buttons until JSON is loaded ready: CodePenSolutionsOr you can make the button event handler work independent of the fetch call-Initialize albumInfo to an empty array in the constructor-Sorting nothing does nothing, which is fineCodePenSingle-threaded asynchronyIs it possible for the _onJsonReady function to fire *in the middle* of sortAlbums?\\nThe browser is fetching albums.json...\\n...User clicks a button, so the event handler is running\\n...Is it possible that while the click handler is still running (still on the call stack), the fetch() callback also fires?\\n...\\nThe answer is No, because JavaScript is single-threaded.\\n...\\nSingle-threaded?Some hand-wavy definitions:-Single-threaded: -When your computer processes one command at a time-There is one call stack-Multi-threaded-When your computer processes multiple commands simultaneously-There is one call stack per threadthread: a linear sequence of instructions; an executable container for instructionsSingle-threaded JS-We create a new Album for each album in the JSON file-For each album, we create a new DOM Image\\nQ: If in JavaScript, only one thing happens at a time, does that mean only one image loads at a time?Image loading\\nEmpirically, that doesn\\'t seem to be the case:Network tabIf we look at Chrome\\'s Network tab, we see there are several images being loaded simultaneously:\\nQ: If JavaScript is single-threaded, i.e. if only one thing happens at a time, how can images be loaded in parallel?JavaScript event loopNote: see talk!(For a perfectly great talk on this, see Philip Roberts\\' talk: https://www.youtube.com/watch?v=8aGhZQkoFbQ&t=1sAnd for a perfectly great deep dive on this, see Jake Archibald\\'s blog post:https://jakearchibald.com/2015/tasks-microtasks-queues-and-schedules/ These slides are inspired by these resources!)setTimeoutTo help us understand the event loop better, let\\'s learn about a new command, setTimeout:setTimeout(function, delay);-function will fire after delay milliseconds-CodePen exampleCall stack + setTimeoutCall Stack\\n(global function)Call stack + setTimeoutCall Stack\\n(global function)\\nCall stack + setTimeoutCall Stack\\nconsole.log(\\'Point A\\');(global function)Call stack + setTimeoutCall Stack\\n(global function)Call stack + setTimeoutCall Stack\\nsetTimeout(...);(global function)Call stack + setTimeoutCall Stack\\n(global function)Call stack + setTimeoutCall Stack\\nconsole.log(\\'Point B\\');(global function)Call stack + setTimeoutCall Stack\\n(global function)\\nCall stack + setTimeoutCall Stack\\nCall stack + setTimeoutCall Stack\\nonTimerDone()\\nCall stack + setTimeoutCall Stack\\nonTimerDone()\\nconsole.log(\\'Point C\\');Call stack + setTimeoutCall Stack\\nonTimerDone()\\nCall stack + setTimeoutCall Stack\\nonTimerDone()\\nquerySelector(\\'h1\\');Call stack + setTimeoutCall Stack\\nonTimerDone()\\nCall stack + setTimeoutCall Stack\\nonTimerDone()\\nCall stack + setTimeoutCall Stack\\nCall stack + setTimeoutCall Stack\\nsetTimeout(...);(global function)What \"enqueues\" onTimerDone? How does it get fired?Tasks, Micro-tasks,and the Event LoopTasks and the Event LoopCall Stack\\n(global function)The JavaScript runtime can do only one thing at a time...setTimeout()Tasks and the Event LoopCall Stack\\n(global function)setTimeout()But the JS runtime runs within a browser, which can do multiple things at a time.Call Stack\\n(global function)setTimeout()Here\\'s a picture of the major pieces involved in executing JavaScript code in the browser.\\nBrowser internal implementation\\nEvent loopTask QueueMicro-task queueJS execution\\n-Call stack: JavaScript runtime call stack. Executes the JavaScript commands, functions.-Browser internal implementation: The C++ code that executes in response to native JavaScript commands, e.g. setTimeout, element.classList.add(\\'style\\'), etc.JS execution\\n-Call stack: JavaScript runtime call stack. Executes the JavaScript commands, functions.-Browser internal implementation: The C++ code that executes in response to native JavaScript commands, e.g. setTimeout, element.classList.add(\\'style\\'), etc.The browser itself is multi-threaded and multi-process!JS execution\\n-Task Queue:  When the browser internal implementation notices a callback from something like setTimeout or addEventListener is should be fired, it creates a Task and enqueues it in the Task QueueJS execution\\n-Micro-task Queue: Promises are special tasks that execute with higher priority than normal tasks, so they have their own special queue. (see details here) JS execution\\nEvent loop: Processes the task queues.-When the call stack is empty, the event loop pulls the next task from the task queues and puts it on the call stack.-The Micro-task queue has higher priority than the Task Queue.DemoPhilip Roberts wrote a nice visualizer for the JS event loop:-setTimeout-With click'}"
      ]
     },
     "execution_count": 92,
     "metadata": {},
     "output_type": "execute_result"
    }
   ],
   "source": [
    "d"
   ]
  }
 ],
 "metadata": {
  "kernelspec": {
   "display_name": "venv",
   "language": "python",
   "name": "python3"
  },
  "language_info": {
   "codemirror_mode": {
    "name": "ipython",
    "version": 3
   },
   "file_extension": ".py",
   "mimetype": "text/x-python",
   "name": "python",
   "nbconvert_exporter": "python",
   "pygments_lexer": "ipython3",
   "version": "3.10.6"
  }
 },
 "nbformat": 4,
 "nbformat_minor": 2
}
